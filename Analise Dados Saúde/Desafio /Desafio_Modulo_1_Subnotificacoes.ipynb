{
 "cells": [
  {
   "cell_type": "markdown",
   "metadata": {},
   "source": [
    "# Objetivo\n",
    "\n",
    "Este notebook tem o objetivo de produzir um \"Subnotificômetro\". Baseado na literatura analisar os casos notificados e quais são os casos esperados, que aponta para cada região onde tem poucos casos de covid mas tem muitos casos de SRAG, muitos óbitos em excesso, em outras palavras: `Outros sinais de fogo que não sejam só a fumaça.` Que possam indicar regiões onde tem casos mas que os números oficiais não apontam.\n",
    "\n",
    "Obitos no brasil por estado:\n",
    "https://transparencia.registrocivil.org.br/registros"
   ]
  },
  {
   "cell_type": "code",
   "execution_count": null,
   "metadata": {},
   "outputs": [],
   "source": []
  }
 ],
 "metadata": {
  "kernelspec": {
   "display_name": "Python 3",
   "language": "python",
   "name": "python3"
  },
  "language_info": {
   "codemirror_mode": {
    "name": "ipython",
    "version": 3
   },
   "file_extension": ".py",
   "mimetype": "text/x-python",
   "name": "python",
   "nbconvert_exporter": "python",
   "pygments_lexer": "ipython3",
   "version": "3.7.6"
  }
 },
 "nbformat": 4,
 "nbformat_minor": 4
}
