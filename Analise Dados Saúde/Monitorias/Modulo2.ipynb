{
 "cells": [
  {
   "cell_type": "code",
   "execution_count": 1,
   "metadata": {},
   "outputs": [],
   "source": [
    "import pandas as pd "
   ]
  },
  {
   "cell_type": "code",
   "execution_count": 2,
   "metadata": {},
   "outputs": [],
   "source": [
    "url = './dados/california_housing_test.csv'"
   ]
  },
  {
   "cell_type": "code",
   "execution_count": 3,
   "metadata": {},
   "outputs": [
    {
     "data": {
      "text/html": [
       "<div>\n",
       "<style scoped>\n",
       "    .dataframe tbody tr th:only-of-type {\n",
       "        vertical-align: middle;\n",
       "    }\n",
       "\n",
       "    .dataframe tbody tr th {\n",
       "        vertical-align: top;\n",
       "    }\n",
       "\n",
       "    .dataframe thead th {\n",
       "        text-align: right;\n",
       "    }\n",
       "</style>\n",
       "<table border=\"1\" class=\"dataframe\">\n",
       "  <thead>\n",
       "    <tr style=\"text-align: right;\">\n",
       "      <th></th>\n",
       "      <th>longitude</th>\n",
       "      <th>latitude</th>\n",
       "      <th>housing_median_age</th>\n",
       "      <th>total_rooms</th>\n",
       "      <th>total_bedrooms</th>\n",
       "      <th>population</th>\n",
       "      <th>households</th>\n",
       "      <th>median_income</th>\n",
       "      <th>median_house_value</th>\n",
       "    </tr>\n",
       "  </thead>\n",
       "  <tbody>\n",
       "    <tr>\n",
       "      <th>0</th>\n",
       "      <td>-122.05</td>\n",
       "      <td>37.37</td>\n",
       "      <td>27.0</td>\n",
       "      <td>3885.0</td>\n",
       "      <td>661.0</td>\n",
       "      <td>1537.0</td>\n",
       "      <td>606.0</td>\n",
       "      <td>6.6085</td>\n",
       "      <td>344700.0</td>\n",
       "    </tr>\n",
       "    <tr>\n",
       "      <th>1</th>\n",
       "      <td>-118.30</td>\n",
       "      <td>34.26</td>\n",
       "      <td>43.0</td>\n",
       "      <td>1510.0</td>\n",
       "      <td>310.0</td>\n",
       "      <td>809.0</td>\n",
       "      <td>277.0</td>\n",
       "      <td>3.5990</td>\n",
       "      <td>176500.0</td>\n",
       "    </tr>\n",
       "    <tr>\n",
       "      <th>2</th>\n",
       "      <td>-117.81</td>\n",
       "      <td>33.78</td>\n",
       "      <td>27.0</td>\n",
       "      <td>3589.0</td>\n",
       "      <td>507.0</td>\n",
       "      <td>1484.0</td>\n",
       "      <td>495.0</td>\n",
       "      <td>5.7934</td>\n",
       "      <td>270500.0</td>\n",
       "    </tr>\n",
       "    <tr>\n",
       "      <th>3</th>\n",
       "      <td>-118.36</td>\n",
       "      <td>33.82</td>\n",
       "      <td>28.0</td>\n",
       "      <td>67.0</td>\n",
       "      <td>15.0</td>\n",
       "      <td>49.0</td>\n",
       "      <td>11.0</td>\n",
       "      <td>6.1359</td>\n",
       "      <td>330000.0</td>\n",
       "    </tr>\n",
       "    <tr>\n",
       "      <th>4</th>\n",
       "      <td>-119.67</td>\n",
       "      <td>36.33</td>\n",
       "      <td>19.0</td>\n",
       "      <td>1241.0</td>\n",
       "      <td>244.0</td>\n",
       "      <td>850.0</td>\n",
       "      <td>237.0</td>\n",
       "      <td>2.9375</td>\n",
       "      <td>81700.0</td>\n",
       "    </tr>\n",
       "  </tbody>\n",
       "</table>\n",
       "</div>"
      ],
      "text/plain": [
       "   longitude  latitude  housing_median_age  total_rooms  total_bedrooms  \\\n",
       "0    -122.05     37.37                27.0       3885.0           661.0   \n",
       "1    -118.30     34.26                43.0       1510.0           310.0   \n",
       "2    -117.81     33.78                27.0       3589.0           507.0   \n",
       "3    -118.36     33.82                28.0         67.0            15.0   \n",
       "4    -119.67     36.33                19.0       1241.0           244.0   \n",
       "\n",
       "   population  households  median_income  median_house_value  \n",
       "0      1537.0       606.0         6.6085            344700.0  \n",
       "1       809.0       277.0         3.5990            176500.0  \n",
       "2      1484.0       495.0         5.7934            270500.0  \n",
       "3        49.0        11.0         6.1359            330000.0  \n",
       "4       850.0       237.0         2.9375             81700.0  "
      ]
     },
     "execution_count": 3,
     "metadata": {},
     "output_type": "execute_result"
    }
   ],
   "source": [
    "dados = pd.read_csv(url)\n",
    "dados.head()"
   ]
  },
  {
   "cell_type": "code",
   "execution_count": 4,
   "metadata": {},
   "outputs": [
    {
     "name": "stdout",
     "output_type": "stream",
     "text": [
      "<class 'pandas.core.frame.DataFrame'>\n",
      "RangeIndex: 3000 entries, 0 to 2999\n",
      "Data columns (total 9 columns):\n",
      " #   Column              Non-Null Count  Dtype  \n",
      "---  ------              --------------  -----  \n",
      " 0   longitude           3000 non-null   float64\n",
      " 1   latitude            3000 non-null   float64\n",
      " 2   housing_median_age  3000 non-null   float64\n",
      " 3   total_rooms         3000 non-null   float64\n",
      " 4   total_bedrooms      3000 non-null   float64\n",
      " 5   population          3000 non-null   float64\n",
      " 6   households          3000 non-null   float64\n",
      " 7   median_income       3000 non-null   float64\n",
      " 8   median_house_value  3000 non-null   float64\n",
      "dtypes: float64(9)\n",
      "memory usage: 211.1 KB\n"
     ]
    },
    {
     "data": {
      "text/plain": [
       "(None, (3000, 9))"
      ]
     },
     "execution_count": 4,
     "metadata": {},
     "output_type": "execute_result"
    }
   ],
   "source": [
    "dados.info(), dados.shape"
   ]
  },
  {
   "cell_type": "markdown",
   "metadata": {},
   "source": [
    "Um lembrete importante:\n",
    "\n",
    "> O nome das variáveis é apenas uma referência que aponta para o objeto na memoria, não é o objeto em si. Se você tem uma variável `A = list()` que aponta pra uma lista e executa a instrução `B = A`, o que acontece é o `B` apontar para `A`e toda alteração em `B` afetará `A`."
   ]
  },
  {
   "cell_type": "code",
   "execution_count": 5,
   "metadata": {},
   "outputs": [
    {
     "name": "stdout",
     "output_type": "stream",
     "text": [
      "Lista A:[1, 2, 3, 4]\n",
      "Lista B:[1, 2, 3, 4]\n",
      "\n",
      "Alterei a lista B\n",
      "\n",
      "Lista A:[0, 2, 3, 4]\n",
      "Lista B:[0, 2, 3, 4]\n"
     ]
    }
   ],
   "source": [
    "A = [1,2,3,4]\n",
    "B = A\n",
    "print(f'Lista A:{A}\\nLista B:{B}')\n",
    "B[0] = 0\n",
    "print('\\nAlterei a lista B')\n",
    "print(f'\\nLista A:{A}\\nLista B:{B}')"
   ]
  },
  {
   "cell_type": "markdown",
   "metadata": {},
   "source": [
    "Note que a lista `A` também foi alterada isso porque `B`é uma referência que aponta para `A`, não cria necessariamente um outro objeto na memória igual a lingaugem C. Se você quer criar uma cópia da lista A e atribuir a este objeto uma referência B, basta usar o método `.copy()`"
   ]
  },
  {
   "cell_type": "code",
   "execution_count": 6,
   "metadata": {},
   "outputs": [
    {
     "name": "stdout",
     "output_type": "stream",
     "text": [
      "Lista A:[1, 2, 3, 4]\n",
      "Lista B:[1, 2, 3, 4]\n",
      "\n",
      "Alterei a lista B\n",
      "\n",
      "Lista A:[1, 2, 3, 4]\n",
      "Lista B:[0, 2, 3, 4]\n"
     ]
    }
   ],
   "source": [
    "A = [1,2,3,4]\n",
    "B = A.copy()\n",
    "print(f'Lista A:{A}\\nLista B:{B}')\n",
    "B[0] = 0\n",
    "print('\\nAlterei a lista B')\n",
    "print(f'\\nLista A:{A}\\nLista B:{B}')"
   ]
  },
  {
   "cell_type": "markdown",
   "metadata": {},
   "source": [
    "Note que agora só foi alterada o objeto que a variável `B` esta referênciando e o objeto referênciado por `A` não foi modificado."
   ]
  },
  {
   "cell_type": "code",
   "execution_count": 7,
   "metadata": {},
   "outputs": [
    {
     "data": {
      "text/plain": [
       "(3000, 9)"
      ]
     },
     "execution_count": 7,
     "metadata": {},
     "output_type": "execute_result"
    }
   ],
   "source": [
    "dados.shape"
   ]
  },
  {
   "cell_type": "markdown",
   "metadata": {},
   "source": [
    "# Databases muito grandes\n",
    "\n",
    "> Em alguns casos podemos ter databases muito grandes. Por exemplo, a denuncia do \n",
    "[Panama Papers](https://en.wikipedia.org/wiki/Panama_Papers) revelou mais de 2.5TeraBytes de dados, armazenar toda essa quantidade de uma vez na memoria é inviável, ou por exemplo se queremos treinar um modelo de machine learning, não faz sentido treinar em toda a base de dados de primeira, precisamos fazer testes para que não seja gasto muito tempo. Para solucionar esse problema podemos trabalhar apenas com um `pedaço`  do database, um pedaço pequeno do database. \n",
    "\n",
    "> O objeto dataframe do módulo `pandas` tem um hiperparâmetro chamado `chunksize` que é basicamente para escolhermos um tamanho do database.\n",
    "\n",
    "Vamos supor que queremos trabalhar com uma amostra representativa dos dados, mas não com todos eles. Para isso podemos utilizar o teorema do limite central da estatistica que diz que o tamanho da amostra para ser representativa deve seguir a regra: \n",
    "\n",
    "$$\\text{Tamanho da amostra} = \\frac{N}{1 + Ne^2},$$\n",
    "onde $N$ é a quantidade de dados e $e$ a margem de erro."
   ]
  },
  {
   "cell_type": "code",
   "execution_count": 8,
   "metadata": {},
   "outputs": [
    {
     "name": "stdout",
     "output_type": "stream",
     "text": [
      "Tamanho dos dados: 3000\n",
      "Amostra representativa com margem de erro de 5%: 353 elementos\n"
     ]
    }
   ],
   "source": [
    "N = len(dados)\n",
    "e = 0.05  # erro de 5%\n",
    "n = int(N / (1 + (N*(e**2)))) + 1\n",
    "print(f'Tamanho dos dados: {N}\\nAmostra representativa com margem de erro de 5%: {n} elementos')"
   ]
  },
  {
   "cell_type": "markdown",
   "metadata": {},
   "source": [
    "Ou seja, para termos uma amostra com precisão de 95% precisamos selecionar 353 elementos"
   ]
  },
  {
   "cell_type": "markdown",
   "metadata": {},
   "source": [
    "Vamos selecionar um pedaço dos dados: \n",
    "\n",
    "**chunksize** int, optional\n",
    "> Return `TextFileReader` object for iteration. See the IO Tools docs for more information on iterator and chunksize."
   ]
  },
  {
   "cell_type": "code",
   "execution_count": 9,
   "metadata": {},
   "outputs": [],
   "source": [
    "pedaco_dados = pd.read_csv(url, chunksize=n)"
   ]
  },
  {
   "cell_type": "code",
   "execution_count": 10,
   "metadata": {},
   "outputs": [
    {
     "data": {
      "text/plain": [
       "<pandas.io.parsers.TextFileReader at 0x7f6f7258d5d0>"
      ]
     },
     "execution_count": 10,
     "metadata": {},
     "output_type": "execute_result"
    }
   ],
   "source": [
    "pedaco_dados"
   ]
  },
  {
   "cell_type": "markdown",
   "metadata": {},
   "source": [
    "note que o retorno não é um `DataFrame` é um `TextFileReader` ou seja, um arquivo que pode ser lido. Para transforma-lo em um dataframe precisamos passar este objeto para o construtor do `DataFrame`. Mas antes disso é necessario agruprar o dado."
   ]
  },
  {
   "cell_type": "code",
   "execution_count": 11,
   "metadata": {},
   "outputs": [],
   "source": [
    "dado_agrupado = []"
   ]
  },
  {
   "cell_type": "code",
   "execution_count": 12,
   "metadata": {},
   "outputs": [],
   "source": [
    "for registro in pedaco_dados:\n",
    "    dado_agrupado.append(registro)"
   ]
  },
  {
   "cell_type": "markdown",
   "metadata": {},
   "source": [
    "Agora é necessario concatenar os dados agrupados."
   ]
  },
  {
   "cell_type": "code",
   "execution_count": 13,
   "metadata": {},
   "outputs": [],
   "source": [
    "dado_concatenado = pd.concat(dado_agrupado)"
   ]
  },
  {
   "cell_type": "markdown",
   "metadata": {},
   "source": [
    "Agora sim temos um dataframe"
   ]
  },
  {
   "cell_type": "code",
   "execution_count": 14,
   "metadata": {},
   "outputs": [
    {
     "data": {
      "text/html": [
       "<div>\n",
       "<style scoped>\n",
       "    .dataframe tbody tr th:only-of-type {\n",
       "        vertical-align: middle;\n",
       "    }\n",
       "\n",
       "    .dataframe tbody tr th {\n",
       "        vertical-align: top;\n",
       "    }\n",
       "\n",
       "    .dataframe thead th {\n",
       "        text-align: right;\n",
       "    }\n",
       "</style>\n",
       "<table border=\"1\" class=\"dataframe\">\n",
       "  <thead>\n",
       "    <tr style=\"text-align: right;\">\n",
       "      <th></th>\n",
       "      <th>longitude</th>\n",
       "      <th>latitude</th>\n",
       "      <th>housing_median_age</th>\n",
       "      <th>total_rooms</th>\n",
       "      <th>total_bedrooms</th>\n",
       "      <th>population</th>\n",
       "      <th>households</th>\n",
       "      <th>median_income</th>\n",
       "      <th>median_house_value</th>\n",
       "    </tr>\n",
       "  </thead>\n",
       "  <tbody>\n",
       "    <tr>\n",
       "      <th>0</th>\n",
       "      <td>-122.05</td>\n",
       "      <td>37.37</td>\n",
       "      <td>27.0</td>\n",
       "      <td>3885.0</td>\n",
       "      <td>661.0</td>\n",
       "      <td>1537.0</td>\n",
       "      <td>606.0</td>\n",
       "      <td>6.6085</td>\n",
       "      <td>344700.0</td>\n",
       "    </tr>\n",
       "    <tr>\n",
       "      <th>1</th>\n",
       "      <td>-118.30</td>\n",
       "      <td>34.26</td>\n",
       "      <td>43.0</td>\n",
       "      <td>1510.0</td>\n",
       "      <td>310.0</td>\n",
       "      <td>809.0</td>\n",
       "      <td>277.0</td>\n",
       "      <td>3.5990</td>\n",
       "      <td>176500.0</td>\n",
       "    </tr>\n",
       "    <tr>\n",
       "      <th>2</th>\n",
       "      <td>-117.81</td>\n",
       "      <td>33.78</td>\n",
       "      <td>27.0</td>\n",
       "      <td>3589.0</td>\n",
       "      <td>507.0</td>\n",
       "      <td>1484.0</td>\n",
       "      <td>495.0</td>\n",
       "      <td>5.7934</td>\n",
       "      <td>270500.0</td>\n",
       "    </tr>\n",
       "    <tr>\n",
       "      <th>3</th>\n",
       "      <td>-118.36</td>\n",
       "      <td>33.82</td>\n",
       "      <td>28.0</td>\n",
       "      <td>67.0</td>\n",
       "      <td>15.0</td>\n",
       "      <td>49.0</td>\n",
       "      <td>11.0</td>\n",
       "      <td>6.1359</td>\n",
       "      <td>330000.0</td>\n",
       "    </tr>\n",
       "    <tr>\n",
       "      <th>4</th>\n",
       "      <td>-119.67</td>\n",
       "      <td>36.33</td>\n",
       "      <td>19.0</td>\n",
       "      <td>1241.0</td>\n",
       "      <td>244.0</td>\n",
       "      <td>850.0</td>\n",
       "      <td>237.0</td>\n",
       "      <td>2.9375</td>\n",
       "      <td>81700.0</td>\n",
       "    </tr>\n",
       "  </tbody>\n",
       "</table>\n",
       "</div>"
      ],
      "text/plain": [
       "   longitude  latitude  housing_median_age  total_rooms  total_bedrooms  \\\n",
       "0    -122.05     37.37                27.0       3885.0           661.0   \n",
       "1    -118.30     34.26                43.0       1510.0           310.0   \n",
       "2    -117.81     33.78                27.0       3589.0           507.0   \n",
       "3    -118.36     33.82                28.0         67.0            15.0   \n",
       "4    -119.67     36.33                19.0       1241.0           244.0   \n",
       "\n",
       "   population  households  median_income  median_house_value  \n",
       "0      1537.0       606.0         6.6085            344700.0  \n",
       "1       809.0       277.0         3.5990            176500.0  \n",
       "2      1484.0       495.0         5.7934            270500.0  \n",
       "3        49.0        11.0         6.1359            330000.0  \n",
       "4       850.0       237.0         2.9375             81700.0  "
      ]
     },
     "execution_count": 14,
     "metadata": {},
     "output_type": "execute_result"
    }
   ],
   "source": [
    "dado_concatenado.head()"
   ]
  },
  {
   "cell_type": "code",
   "execution_count": 15,
   "metadata": {
    "scrolled": true
   },
   "outputs": [
    {
     "data": {
      "text/plain": [
       "[     longitude  latitude  housing_median_age  total_rooms  total_bedrooms  \\\n",
       " 0      -122.05     37.37                27.0       3885.0           661.0   \n",
       " 1      -118.30     34.26                43.0       1510.0           310.0   \n",
       " 2      -117.81     33.78                27.0       3589.0           507.0   \n",
       " 3      -118.36     33.82                28.0         67.0            15.0   \n",
       " 4      -119.67     36.33                19.0       1241.0           244.0   \n",
       " ..         ...       ...                 ...          ...             ...   \n",
       " 348    -118.47     34.25                21.0       2692.0           477.0   \n",
       " 349    -122.25     37.80                42.0       4120.0          1065.0   \n",
       " 350    -118.50     34.17                37.0        880.0           154.0   \n",
       " 351    -122.24     37.49                38.0       4105.0           950.0   \n",
       " 352    -117.15     32.93                16.0       2718.0           438.0   \n",
       " \n",
       "      population  households  median_income  median_house_value  \n",
       " 0        1537.0       606.0         6.6085            344700.0  \n",
       " 1         809.0       277.0         3.5990            176500.0  \n",
       " 2        1484.0       495.0         5.7934            270500.0  \n",
       " 3          49.0        11.0         6.1359            330000.0  \n",
       " 4         850.0       237.0         2.9375             81700.0  \n",
       " ..          ...         ...            ...                 ...  \n",
       " 348      1330.0       456.0         4.5417            238900.0  \n",
       " 349      1715.0      1015.0         2.9345            225000.0  \n",
       " 350       369.0       155.0         4.1429            303600.0  \n",
       " 351      2561.0       909.0         3.8684            265600.0  \n",
       " 352      1515.0       431.0         5.1433            185300.0  \n",
       " \n",
       " [353 rows x 9 columns],\n",
       "      longitude  latitude  housing_median_age  total_rooms  total_bedrooms  \\\n",
       " 353    -120.85     37.77                35.0        404.0            96.0   \n",
       " 354    -122.25     37.83                35.0       1613.0           428.0   \n",
       " 355    -118.33     33.77                33.0       4244.0           595.0   \n",
       " 356    -124.15     40.78                41.0       2127.0           358.0   \n",
       " 357    -117.94     33.79                24.0       4179.0           784.0   \n",
       " ..         ...       ...                 ...          ...             ...   \n",
       " 701    -117.93     34.06                35.0       1022.0           183.0   \n",
       " 702    -121.81     36.57                13.0       3030.0           413.0   \n",
       " 703    -118.42     34.00                33.0       1139.0           299.0   \n",
       " 704    -118.33     34.01                44.0       1762.0           463.0   \n",
       " 705    -118.24     33.93                19.0        325.0            74.0   \n",
       " \n",
       "      population  households  median_income  median_house_value  \n",
       " 353       261.0       100.0         2.4583             75000.0  \n",
       " 354       675.0       422.0         3.4722            243100.0  \n",
       " 355      1534.0       557.0         9.8214            500001.0  \n",
       " 356       911.0       349.0         3.1711            104200.0  \n",
       " 357      1902.0       733.0         4.7986            236500.0  \n",
       " ..          ...         ...            ...                 ...  \n",
       " 701       628.0       187.0         3.9375            187500.0  \n",
       " 702      1027.0       363.0         6.9615            500001.0  \n",
       " 703       734.0       257.0         3.2708            325000.0  \n",
       " 704       786.0       445.0         1.9231            188500.0  \n",
       " 705       354.0        87.0         2.7500             90600.0  \n",
       " \n",
       " [353 rows x 9 columns],\n",
       "       longitude  latitude  housing_median_age  total_rooms  total_bedrooms  \\\n",
       " 706     -116.94     32.81                22.0       4266.0          1010.0   \n",
       " 707     -122.60     38.24                16.0       2621.0           416.0   \n",
       " 708     -118.21     33.97                52.0       4220.0           908.0   \n",
       " 709     -118.73     34.27                25.0       3409.0           493.0   \n",
       " 710     -122.12     37.37                37.0       1446.0           181.0   \n",
       " ...         ...       ...                 ...          ...             ...   \n",
       " 1054    -119.06     36.10                21.0       1344.0           249.0   \n",
       " 1055    -122.47     37.75                52.0       1598.0           285.0   \n",
       " 1056    -122.54     37.90                41.0       3170.0           622.0   \n",
       " 1057    -119.73     36.76                30.0       1548.0           282.0   \n",
       " 1058    -122.03     36.96                40.0        584.0           126.0   \n",
       " \n",
       "       population  households  median_income  median_house_value  \n",
       " 706       2766.0       985.0         2.8175            135200.0  \n",
       " 707       1247.0       386.0         4.8603            198400.0  \n",
       " 708       3731.0       892.0         3.1901            167600.0  \n",
       " 709       1699.0       484.0         5.6530            225800.0  \n",
       " 710        549.0       190.0        10.7355            500001.0  \n",
       " ...          ...         ...            ...                 ...  \n",
       " 1054       868.0       221.0         2.5893             63600.0  \n",
       " 1055       689.0       265.0         4.6071            337400.0  \n",
       " 1056      1091.0       528.0         3.7813            389200.0  \n",
       " 1057       886.0       311.0         3.1000             71300.0  \n",
       " 1058       316.0       139.0         3.5938            243500.0  \n",
       " \n",
       " [353 rows x 9 columns],\n",
       "       longitude  latitude  housing_median_age  total_rooms  total_bedrooms  \\\n",
       " 1059    -119.75     36.78                33.0       1145.0           197.0   \n",
       " 1060    -117.30     33.06                24.0       2171.0           511.0   \n",
       " 1061    -121.99     36.96                16.0        875.0           201.0   \n",
       " 1062    -120.73     39.63                17.0       1791.0           356.0   \n",
       " 1063    -118.48     34.03                19.0        902.0           284.0   \n",
       " ...         ...       ...                 ...          ...             ...   \n",
       " 1407    -119.26     35.50                38.0       2536.0           409.0   \n",
       " 1408    -123.35     40.99                23.0        141.0            59.0   \n",
       " 1409    -118.14     34.16                39.0       2776.0           840.0   \n",
       " 1410    -118.39     34.23                43.0       1193.0           299.0   \n",
       " 1411    -117.03     32.79                17.0       7352.0          1699.0   \n",
       " \n",
       "       population  households  median_income  median_house_value  \n",
       " 1059       508.0       198.0         2.3333             81300.0  \n",
       " 1060       870.0       442.0         3.1940            276300.0  \n",
       " 1061       300.0       157.0         2.6250            377300.0  \n",
       " 1062       432.0       190.0         3.8826             92400.0  \n",
       " 1063       414.0       272.0         1.3333            310000.0  \n",
       " ...          ...         ...            ...                 ...  \n",
       " 1407      1133.0       430.0         4.2375             78600.0  \n",
       " 1408        47.0        23.0         1.1250             66000.0  \n",
       " 1409      2546.0       773.0         2.5750            153500.0  \n",
       " 1410      1184.0       320.0         2.1518            161600.0  \n",
       " 1411      3331.0      1634.0         2.7006            166300.0  \n",
       " \n",
       " [353 rows x 9 columns],\n",
       "       longitude  latitude  housing_median_age  total_rooms  total_bedrooms  \\\n",
       " 1412    -117.84     33.80                34.0       2004.0           331.0   \n",
       " 1413    -116.69     33.50                13.0       1187.0           255.0   \n",
       " 1414    -121.09     37.61                42.0       1787.0           296.0   \n",
       " 1415    -117.14     32.76                35.0       2539.0           661.0   \n",
       " 1416    -122.69     38.46                32.0       2970.0           504.0   \n",
       " ...         ...       ...                 ...          ...             ...   \n",
       " 1760    -118.43     34.17                33.0       1679.0           404.0   \n",
       " 1761    -117.10     32.58                33.0        393.0            76.0   \n",
       " 1762    -122.28     37.79                30.0       4145.0           869.0   \n",
       " 1763    -118.32     34.11                48.0       4472.0          1579.0   \n",
       " 1764    -118.42     34.02                28.0       3167.0           737.0   \n",
       " \n",
       "       population  households  median_income  median_house_value  \n",
       " 1412       843.0       328.0         3.5900            230600.0  \n",
       " 1413       442.0       179.0         1.9107            155700.0  \n",
       " 1414       921.0       287.0         3.8864            171400.0  \n",
       " 1415      1308.0       629.0         2.6777            146400.0  \n",
       " 1416      1117.0       512.0         5.0000            275900.0  \n",
       " ...          ...         ...            ...                 ...  \n",
       " 1760       933.0       412.0         2.6979            266000.0  \n",
       " 1761       330.0        80.0         4.1029            122700.0  \n",
       " 1762      3668.0       855.0         2.5444            275000.0  \n",
       " 1763      2796.0      1397.0         2.3974            410700.0  \n",
       " 1764      1248.0       665.0         3.1941            394700.0  \n",
       " \n",
       " [353 rows x 9 columns],\n",
       "       longitude  latitude  housing_median_age  total_rooms  total_bedrooms  \\\n",
       " 1765    -119.56     36.51                 9.0       3860.0           809.0   \n",
       " 1766    -122.42     37.78                19.0       4065.0          1645.0   \n",
       " 1767    -120.91     37.73                31.0        840.0           154.0   \n",
       " 1768    -122.08     37.59                16.0       1816.0           365.0   \n",
       " 1769    -121.77     37.31                16.0       1649.0           228.0   \n",
       " ...         ...       ...                 ...          ...             ...   \n",
       " 2113    -118.12     34.06                35.0       1729.0           438.0   \n",
       " 2114    -121.41     38.60                16.0       5407.0          1467.0   \n",
       " 2115    -120.62     35.13                26.0       3971.0           803.0   \n",
       " 2116    -118.18     33.80                42.0       2301.0           621.0   \n",
       " 2117    -117.51     34.16                 2.0        718.0            98.0   \n",
       " \n",
       "       population  households  median_income  median_house_value  \n",
       " 1765      2157.0       770.0         2.5033             70100.0  \n",
       " 1766      2079.0      1470.0         3.1462            187500.0  \n",
       " 1767       429.0       150.0         2.4063            170200.0  \n",
       " 1768      1367.0       355.0         4.2350            156300.0  \n",
       " 1769       769.0       230.0         6.6455            302600.0  \n",
       " ...          ...         ...            ...                 ...  \n",
       " 2113      1308.0       412.0         2.5321            197200.0  \n",
       " 2114      2523.0      1265.0         2.0471            104200.0  \n",
       " 2115      1792.0       723.0         2.7128            209900.0  \n",
       " 2116      2114.0       561.0         2.0579            132700.0  \n",
       " 2117       119.0        50.0         4.1000            315000.0  \n",
       " \n",
       " [353 rows x 9 columns],\n",
       "       longitude  latitude  housing_median_age  total_rooms  total_bedrooms  \\\n",
       " 2118    -118.16     34.03                40.0       2201.0           636.0   \n",
       " 2119    -118.17     34.11                39.0       1758.0           436.0   \n",
       " 2120    -117.69     33.65                15.0       5394.0           748.0   \n",
       " 2121    -122.20     37.77                41.0       1547.0           415.0   \n",
       " 2122    -121.33     37.96                42.0       1619.0           340.0   \n",
       " ...         ...       ...                 ...          ...             ...   \n",
       " 2466    -118.37     33.93                46.0        442.0            88.0   \n",
       " 2467    -118.22     34.05                43.0       1153.0           411.0   \n",
       " 2468    -122.49     37.68                34.0       3718.0           676.0   \n",
       " 2469    -116.51     33.84                16.0        980.0           193.0   \n",
       " 2470    -121.88     37.66                29.0       2702.0           680.0   \n",
       " \n",
       "       population  households  median_income  median_house_value  \n",
       " 2118      2682.0       595.0         2.3590            143400.0  \n",
       " 2119       892.0       447.0         3.6406            278900.0  \n",
       " 2120      2383.0       706.0         7.5619            302000.0  \n",
       " 2121      1024.0       341.0         2.0562            102000.0  \n",
       " 2122       906.0       339.0         2.5488             80300.0  \n",
       " ...          ...         ...            ...                 ...  \n",
       " 2466       255.0        94.0         4.4474            246900.0  \n",
       " 2467      1667.0       409.0         1.9402            139300.0  \n",
       " 2468      2510.0       632.0         5.3311            270800.0  \n",
       " 2469       454.0       185.0         4.0729            100000.0  \n",
       " 2470      1360.0       642.0         3.1127            233000.0  \n",
       " \n",
       " [353 rows x 9 columns],\n",
       "       longitude  latitude  housing_median_age  total_rooms  total_bedrooms  \\\n",
       " 2471    -122.44     37.80                52.0       2869.0           594.0   \n",
       " 2472    -121.34     38.05                16.0        667.0            92.0   \n",
       " 2473    -117.87     33.84                16.0       1545.0           354.0   \n",
       " 2474    -122.28     37.89                52.0       2315.0           408.0   \n",
       " 2475    -121.83     37.99                18.0       2741.0           449.0   \n",
       " ...         ...       ...                 ...          ...             ...   \n",
       " 2819    -118.01     33.88                19.0       1434.0           391.0   \n",
       " 2820    -117.68     35.62                30.0       2994.0           741.0   \n",
       " 2821    -120.64     35.26                21.0       3298.0           716.0   \n",
       " 2822    -121.29     38.10                14.0       1551.0           297.0   \n",
       " 2823    -120.19     37.53                25.0       1470.0           341.0   \n",
       " \n",
       "       population  households  median_income  median_house_value  \n",
       " 2471       500.0       335.0         5.0376            500001.0  \n",
       " 2472       267.0        90.0         5.6147            244700.0  \n",
       " 2473       730.0       350.0         4.5112            139000.0  \n",
       " 2474       835.0       369.0         4.5893            290100.0  \n",
       " 2475      1507.0       460.0         4.7566            142500.0  \n",
       " ...          ...         ...            ...                 ...  \n",
       " 2819      1088.0       341.0         3.3690            269600.0  \n",
       " 2820      1481.0       581.0         2.1458             52400.0  \n",
       " 2821      1862.0       687.0         2.1507            221500.0  \n",
       " 2822       785.0       281.0         3.7750            163300.0  \n",
       " 2823       706.0       283.0         1.7614             71300.0  \n",
       " \n",
       " [353 rows x 9 columns],\n",
       "       longitude  latitude  housing_median_age  total_rooms  total_bedrooms  \\\n",
       " 2824    -117.31     34.10                28.0       2899.0           755.0   \n",
       " 2825    -118.09     33.87                31.0       3498.0           728.0   \n",
       " 2826    -117.99     34.12                37.0       1527.0           331.0   \n",
       " 2827    -119.81     34.47                26.0       4382.0           618.0   \n",
       " 2828    -116.96     33.52                 9.0       2802.0           471.0   \n",
       " ...         ...       ...                 ...          ...             ...   \n",
       " 2995    -119.86     34.42                23.0       1450.0           642.0   \n",
       " 2996    -118.14     34.06                27.0       5257.0          1082.0   \n",
       " 2997    -119.70     36.30                10.0        956.0           201.0   \n",
       " 2998    -117.12     34.10                40.0         96.0            14.0   \n",
       " 2999    -119.63     34.42                42.0       1765.0           263.0   \n",
       " \n",
       "       population  households  median_income  median_house_value  \n",
       " 2824      2406.0       655.0         1.5208             69500.0  \n",
       " 2825      2098.0       697.0         3.9837            246000.0  \n",
       " 2826      1504.0       324.0         3.2857            130100.0  \n",
       " 2827      1728.0       587.0         7.4734            432200.0  \n",
       " 2828      1155.0       421.0         4.1250            392100.0  \n",
       " ...          ...         ...            ...                 ...  \n",
       " 2995      1258.0       607.0         1.1790            225000.0  \n",
       " 2996      3496.0      1036.0         3.3906            237200.0  \n",
       " 2997       693.0       220.0         2.2895             62000.0  \n",
       " 2998        46.0        14.0         3.2708            162500.0  \n",
       " 2999       753.0       260.0         8.5608            500001.0  \n",
       " \n",
       " [176 rows x 9 columns]]"
      ]
     },
     "execution_count": 15,
     "metadata": {},
     "output_type": "execute_result"
    }
   ],
   "source": [
    "dado_agrupado"
   ]
  },
  {
   "cell_type": "markdown",
   "metadata": {},
   "source": [
    "Também é possível selecionar o registro `0` do `dado_agrupado`:"
   ]
  },
  {
   "cell_type": "code",
   "execution_count": 16,
   "metadata": {},
   "outputs": [
    {
     "data": {
      "text/html": [
       "<div>\n",
       "<style scoped>\n",
       "    .dataframe tbody tr th:only-of-type {\n",
       "        vertical-align: middle;\n",
       "    }\n",
       "\n",
       "    .dataframe tbody tr th {\n",
       "        vertical-align: top;\n",
       "    }\n",
       "\n",
       "    .dataframe thead th {\n",
       "        text-align: right;\n",
       "    }\n",
       "</style>\n",
       "<table border=\"1\" class=\"dataframe\">\n",
       "  <thead>\n",
       "    <tr style=\"text-align: right;\">\n",
       "      <th></th>\n",
       "      <th>longitude</th>\n",
       "      <th>latitude</th>\n",
       "      <th>housing_median_age</th>\n",
       "      <th>total_rooms</th>\n",
       "      <th>total_bedrooms</th>\n",
       "      <th>population</th>\n",
       "      <th>households</th>\n",
       "      <th>median_income</th>\n",
       "      <th>median_house_value</th>\n",
       "    </tr>\n",
       "  </thead>\n",
       "  <tbody>\n",
       "    <tr>\n",
       "      <th>0</th>\n",
       "      <td>-122.05</td>\n",
       "      <td>37.37</td>\n",
       "      <td>27.0</td>\n",
       "      <td>3885.0</td>\n",
       "      <td>661.0</td>\n",
       "      <td>1537.0</td>\n",
       "      <td>606.0</td>\n",
       "      <td>6.6085</td>\n",
       "      <td>344700.0</td>\n",
       "    </tr>\n",
       "    <tr>\n",
       "      <th>1</th>\n",
       "      <td>-118.30</td>\n",
       "      <td>34.26</td>\n",
       "      <td>43.0</td>\n",
       "      <td>1510.0</td>\n",
       "      <td>310.0</td>\n",
       "      <td>809.0</td>\n",
       "      <td>277.0</td>\n",
       "      <td>3.5990</td>\n",
       "      <td>176500.0</td>\n",
       "    </tr>\n",
       "    <tr>\n",
       "      <th>2</th>\n",
       "      <td>-117.81</td>\n",
       "      <td>33.78</td>\n",
       "      <td>27.0</td>\n",
       "      <td>3589.0</td>\n",
       "      <td>507.0</td>\n",
       "      <td>1484.0</td>\n",
       "      <td>495.0</td>\n",
       "      <td>5.7934</td>\n",
       "      <td>270500.0</td>\n",
       "    </tr>\n",
       "    <tr>\n",
       "      <th>3</th>\n",
       "      <td>-118.36</td>\n",
       "      <td>33.82</td>\n",
       "      <td>28.0</td>\n",
       "      <td>67.0</td>\n",
       "      <td>15.0</td>\n",
       "      <td>49.0</td>\n",
       "      <td>11.0</td>\n",
       "      <td>6.1359</td>\n",
       "      <td>330000.0</td>\n",
       "    </tr>\n",
       "    <tr>\n",
       "      <th>4</th>\n",
       "      <td>-119.67</td>\n",
       "      <td>36.33</td>\n",
       "      <td>19.0</td>\n",
       "      <td>1241.0</td>\n",
       "      <td>244.0</td>\n",
       "      <td>850.0</td>\n",
       "      <td>237.0</td>\n",
       "      <td>2.9375</td>\n",
       "      <td>81700.0</td>\n",
       "    </tr>\n",
       "    <tr>\n",
       "      <th>...</th>\n",
       "      <td>...</td>\n",
       "      <td>...</td>\n",
       "      <td>...</td>\n",
       "      <td>...</td>\n",
       "      <td>...</td>\n",
       "      <td>...</td>\n",
       "      <td>...</td>\n",
       "      <td>...</td>\n",
       "      <td>...</td>\n",
       "    </tr>\n",
       "    <tr>\n",
       "      <th>348</th>\n",
       "      <td>-118.47</td>\n",
       "      <td>34.25</td>\n",
       "      <td>21.0</td>\n",
       "      <td>2692.0</td>\n",
       "      <td>477.0</td>\n",
       "      <td>1330.0</td>\n",
       "      <td>456.0</td>\n",
       "      <td>4.5417</td>\n",
       "      <td>238900.0</td>\n",
       "    </tr>\n",
       "    <tr>\n",
       "      <th>349</th>\n",
       "      <td>-122.25</td>\n",
       "      <td>37.80</td>\n",
       "      <td>42.0</td>\n",
       "      <td>4120.0</td>\n",
       "      <td>1065.0</td>\n",
       "      <td>1715.0</td>\n",
       "      <td>1015.0</td>\n",
       "      <td>2.9345</td>\n",
       "      <td>225000.0</td>\n",
       "    </tr>\n",
       "    <tr>\n",
       "      <th>350</th>\n",
       "      <td>-118.50</td>\n",
       "      <td>34.17</td>\n",
       "      <td>37.0</td>\n",
       "      <td>880.0</td>\n",
       "      <td>154.0</td>\n",
       "      <td>369.0</td>\n",
       "      <td>155.0</td>\n",
       "      <td>4.1429</td>\n",
       "      <td>303600.0</td>\n",
       "    </tr>\n",
       "    <tr>\n",
       "      <th>351</th>\n",
       "      <td>-122.24</td>\n",
       "      <td>37.49</td>\n",
       "      <td>38.0</td>\n",
       "      <td>4105.0</td>\n",
       "      <td>950.0</td>\n",
       "      <td>2561.0</td>\n",
       "      <td>909.0</td>\n",
       "      <td>3.8684</td>\n",
       "      <td>265600.0</td>\n",
       "    </tr>\n",
       "    <tr>\n",
       "      <th>352</th>\n",
       "      <td>-117.15</td>\n",
       "      <td>32.93</td>\n",
       "      <td>16.0</td>\n",
       "      <td>2718.0</td>\n",
       "      <td>438.0</td>\n",
       "      <td>1515.0</td>\n",
       "      <td>431.0</td>\n",
       "      <td>5.1433</td>\n",
       "      <td>185300.0</td>\n",
       "    </tr>\n",
       "  </tbody>\n",
       "</table>\n",
       "<p>353 rows × 9 columns</p>\n",
       "</div>"
      ],
      "text/plain": [
       "     longitude  latitude  housing_median_age  total_rooms  total_bedrooms  \\\n",
       "0      -122.05     37.37                27.0       3885.0           661.0   \n",
       "1      -118.30     34.26                43.0       1510.0           310.0   \n",
       "2      -117.81     33.78                27.0       3589.0           507.0   \n",
       "3      -118.36     33.82                28.0         67.0            15.0   \n",
       "4      -119.67     36.33                19.0       1241.0           244.0   \n",
       "..         ...       ...                 ...          ...             ...   \n",
       "348    -118.47     34.25                21.0       2692.0           477.0   \n",
       "349    -122.25     37.80                42.0       4120.0          1065.0   \n",
       "350    -118.50     34.17                37.0        880.0           154.0   \n",
       "351    -122.24     37.49                38.0       4105.0           950.0   \n",
       "352    -117.15     32.93                16.0       2718.0           438.0   \n",
       "\n",
       "     population  households  median_income  median_house_value  \n",
       "0        1537.0       606.0         6.6085            344700.0  \n",
       "1         809.0       277.0         3.5990            176500.0  \n",
       "2        1484.0       495.0         5.7934            270500.0  \n",
       "3          49.0        11.0         6.1359            330000.0  \n",
       "4         850.0       237.0         2.9375             81700.0  \n",
       "..          ...         ...            ...                 ...  \n",
       "348      1330.0       456.0         4.5417            238900.0  \n",
       "349      1715.0      1015.0         2.9345            225000.0  \n",
       "350       369.0       155.0         4.1429            303600.0  \n",
       "351      2561.0       909.0         3.8684            265600.0  \n",
       "352      1515.0       431.0         5.1433            185300.0  \n",
       "\n",
       "[353 rows x 9 columns]"
      ]
     },
     "execution_count": 16,
     "metadata": {},
     "output_type": "execute_result"
    }
   ],
   "source": [
    "dado_agrupado[0]"
   ]
  },
  {
   "cell_type": "markdown",
   "metadata": {},
   "source": [
    "Podemos saber quanto de memoria o dataframe esta utilizando através do método `memory_usage()`:"
   ]
  },
  {
   "cell_type": "code",
   "execution_count": 17,
   "metadata": {},
   "outputs": [
    {
     "data": {
      "text/plain": [
       "Index                   128\n",
       "longitude             24000\n",
       "latitude              24000\n",
       "housing_median_age    24000\n",
       "total_rooms           24000\n",
       "total_bedrooms        24000\n",
       "population            24000\n",
       "households            24000\n",
       "median_income         24000\n",
       "median_house_value    24000\n",
       "dtype: int64"
      ]
     },
     "execution_count": 17,
     "metadata": {},
     "output_type": "execute_result"
    }
   ],
   "source": [
    "dado_concatenado.memory_usage()"
   ]
  },
  {
   "cell_type": "markdown",
   "metadata": {},
   "source": [
    "ou através do método `.info()`"
   ]
  },
  {
   "cell_type": "code",
   "execution_count": 18,
   "metadata": {},
   "outputs": [
    {
     "name": "stdout",
     "output_type": "stream",
     "text": [
      "<class 'pandas.core.frame.DataFrame'>\n",
      "RangeIndex: 3000 entries, 0 to 2999\n",
      "Data columns (total 9 columns):\n",
      " #   Column              Non-Null Count  Dtype  \n",
      "---  ------              --------------  -----  \n",
      " 0   longitude           3000 non-null   float64\n",
      " 1   latitude            3000 non-null   float64\n",
      " 2   housing_median_age  3000 non-null   float64\n",
      " 3   total_rooms         3000 non-null   float64\n",
      " 4   total_bedrooms      3000 non-null   float64\n",
      " 5   population          3000 non-null   float64\n",
      " 6   households          3000 non-null   float64\n",
      " 7   median_income       3000 non-null   float64\n",
      " 8   median_house_value  3000 non-null   float64\n",
      "dtypes: float64(9)\n",
      "memory usage: 211.1 KB\n"
     ]
    }
   ],
   "source": [
    "dado_concatenado.info()"
   ]
  },
  {
   "cell_type": "markdown",
   "metadata": {},
   "source": [
    "Podemos diminuir ainda mais a quantidade de memoria utilizada. **Obvio que isso depende do problema**, no nosso caso como o dado mais preciso é de latitude e longitude no maximo 2 casas decimais, não precisamos de um `float64` (numero flutuante de 64 bits) podemos perfeitamente usar um `float32`. Para mudar o tipo podemos usar o método `astype()`:"
   ]
  },
  {
   "cell_type": "code",
   "execution_count": 19,
   "metadata": {},
   "outputs": [],
   "source": [
    "dado_concatenado = dado_concatenado.astype('float32')"
   ]
  },
  {
   "cell_type": "code",
   "execution_count": 20,
   "metadata": {},
   "outputs": [
    {
     "name": "stdout",
     "output_type": "stream",
     "text": [
      "<class 'pandas.core.frame.DataFrame'>\n",
      "RangeIndex: 3000 entries, 0 to 2999\n",
      "Data columns (total 9 columns):\n",
      " #   Column              Non-Null Count  Dtype  \n",
      "---  ------              --------------  -----  \n",
      " 0   longitude           3000 non-null   float32\n",
      " 1   latitude            3000 non-null   float32\n",
      " 2   housing_median_age  3000 non-null   float32\n",
      " 3   total_rooms         3000 non-null   float32\n",
      " 4   total_bedrooms      3000 non-null   float32\n",
      " 5   population          3000 non-null   float32\n",
      " 6   households          3000 non-null   float32\n",
      " 7   median_income       3000 non-null   float32\n",
      " 8   median_house_value  3000 non-null   float32\n",
      "dtypes: float32(9)\n",
      "memory usage: 105.6 KB\n"
     ]
    }
   ],
   "source": [
    "dado_concatenado.info()"
   ]
  },
  {
   "cell_type": "markdown",
   "metadata": {},
   "source": [
    "Note que a memoria utilizada caiu pela metade."
   ]
  },
  {
   "cell_type": "code",
   "execution_count": 21,
   "metadata": {},
   "outputs": [
    {
     "name": "stdout",
     "output_type": "stream",
     "text": [
      "<class 'pandas.core.frame.DataFrame'>\n",
      "RangeIndex: 3000 entries, 0 to 2999\n",
      "Data columns (total 9 columns):\n",
      " #   Column              Non-Null Count  Dtype  \n",
      "---  ------              --------------  -----  \n",
      " 0   longitude           3000 non-null   float64\n",
      " 1   latitude            3000 non-null   float64\n",
      " 2   housing_median_age  3000 non-null   float64\n",
      " 3   total_rooms         3000 non-null   float64\n",
      " 4   total_bedrooms      3000 non-null   float64\n",
      " 5   population          3000 non-null   float64\n",
      " 6   households          3000 non-null   float64\n",
      " 7   median_income       3000 non-null   float64\n",
      " 8   median_house_value  3000 non-null   float64\n",
      "dtypes: float64(9)\n",
      "memory usage: 211.1 KB\n",
      "CPU times: user 12 ms, sys: 0 ns, total: 12 ms\n",
      "Wall time: 11 ms\n"
     ]
    }
   ],
   "source": [
    "%%time \n",
    "\n",
    "dados.info()"
   ]
  },
  {
   "cell_type": "markdown",
   "metadata": {},
   "source": [
    "Podemos liberar espaço da demoria caso apaguemos todas as referências de um objeto usando o método `del`:"
   ]
  },
  {
   "cell_type": "code",
   "execution_count": 22,
   "metadata": {},
   "outputs": [],
   "source": [
    "del A\n",
    "del B"
   ]
  },
  {
   "cell_type": "markdown",
   "metadata": {},
   "source": [
    "# Módulo `Dask`\n",
    "\n",
    "> https://dask.org/\n",
    "\n",
    "Este módulo tem muitas funções similares ao pandas, mas foi construida exclusivamente para tratar de grandes volumes de dados. Além disso essa biblioteca utiliza processamento em paralélo para um desempenho maior."
   ]
  },
  {
   "cell_type": "markdown",
   "metadata": {},
   "source": [
    "> Mas pra que serve o processamento em paralelo? \n",
    "\n",
    "Bom, quando precisamos fazer várias contas simultaneamente por exemplo simulações computacionais ou machine learning. Vamos contruir uma função que por exemplo demora 1s pra executar.\n"
   ]
  },
  {
   "cell_type": "code",
   "execution_count": 24,
   "metadata": {},
   "outputs": [],
   "source": [
    "from time import sleep \n",
    "\n",
    "def soma_um(x):\n",
    "    sleep(1)\n",
    "    return x + 1 \n",
    "\n",
    "\n",
    "def soma_dois(x, y):\n",
    "    sleep(1)\n",
    "    return x + y "
   ]
  },
  {
   "cell_type": "markdown",
   "metadata": {},
   "source": [
    "definida as duas funções `soma_um()` e `soma_dois()`podemos usar o caracter especial para medir o tempo de execução de uma célula: `%%time`"
   ]
  },
  {
   "cell_type": "code",
   "execution_count": 25,
   "metadata": {},
   "outputs": [
    {
     "name": "stdout",
     "output_type": "stream",
     "text": [
      "CPU times: user 0 ns, sys: 2.53 ms, total: 2.53 ms\n",
      "Wall time: 3 s\n"
     ]
    },
    {
     "data": {
      "text/plain": [
       "6"
      ]
     },
     "execution_count": 25,
     "metadata": {},
     "output_type": "execute_result"
    }
   ],
   "source": [
    "%%time\n",
    "x = soma_um(1)\n",
    "y = soma_um(3)\n",
    "\n",
    "soma_dois(x,y)"
   ]
  },
  {
   "cell_type": "markdown",
   "metadata": {},
   "source": [
    "Note que o tempo de execução foi 3 segundos. Mas não faz diferença executar primeiro `x= soma_um(1)` e depois `y = soma_um(3)`. Com o módulo `Desk`podemos usar núcleos diferentes do processador para executar essas operações."
   ]
  },
  {
   "cell_type": "code",
   "execution_count": 26,
   "metadata": {},
   "outputs": [],
   "source": [
    "from dask import delayed\n",
    "\n",
    "# é preciso recirar as funções com um decorator (@)\n",
    "\n",
    "@delayed\n",
    "def soma_um(x):\n",
    "    sleep(1)\n",
    "    return x + 1 \n",
    "\n",
    "@delayed\n",
    "def soma_dois(x, y):\n",
    "    sleep(1)\n",
    "    return x + y "
   ]
  },
  {
   "cell_type": "markdown",
   "metadata": {},
   "source": [
    "Chamando as funções armazenadas no `delayed`"
   ]
  },
  {
   "cell_type": "code",
   "execution_count": 28,
   "metadata": {},
   "outputs": [
    {
     "name": "stdout",
     "output_type": "stream",
     "text": [
      "CPU times: user 1.24 ms, sys: 0 ns, total: 1.24 ms\n",
      "Wall time: 1.22 ms\n"
     ]
    }
   ],
   "source": [
    "%%time\n",
    "x = delayed(soma_um)(1)\n",
    "y = delayed(soma_um)(3)\n",
    "\n",
    "z = delayed(soma_dois)(x,y)"
   ]
  },
  {
   "cell_type": "markdown",
   "metadata": {},
   "source": [
    "mas espere o módulo Dask não efetuou a conta, ele simplesmente passou por ela, para efetuar a operação é necessario chamar a função `compute()`do objeto `z`"
   ]
  },
  {
   "cell_type": "code",
   "execution_count": 30,
   "metadata": {},
   "outputs": [
    {
     "name": "stdout",
     "output_type": "stream",
     "text": [
      "CPU times: user 4.8 ms, sys: 3.84 ms, total: 8.64 ms\n",
      "Wall time: 2.01 s\n"
     ]
    },
    {
     "data": {
      "text/plain": [
       "6"
      ]
     },
     "execution_count": 30,
     "metadata": {},
     "output_type": "execute_result"
    }
   ],
   "source": [
    "%%time\n",
    "z.compute()"
   ]
  },
  {
   "cell_type": "markdown",
   "metadata": {},
   "source": [
    "Note que o tempo de execução foi um segundo a menos, por mais que cada função `soma_um(1)` e `soma_um(3)` demorem 1 segundo para executar ao usar o processamento em paralelo (threads) o resultado foi mais rapido. \n",
    "\n",
    "> É possível visualizar a estrutura de processamento de dados realizada pelo processador através do método `z.visualize()`:"
   ]
  },
  {
   "cell_type": "code",
   "execution_count": 31,
   "metadata": {},
   "outputs": [
    {
     "data": {
      "image/png": "[encoded data removed]",
      "text/plain": [
       "<IPython.core.display.Image object>"
      ]
     },
     "execution_count": 31,
     "metadata": {},
     "output_type": "execute_result"
    }
   ],
   "source": [
    "z.visualize()"
   ]
  },
  {
   "cell_type": "markdown",
   "metadata": {},
   "source": [
    "É importante salientar que o exemplo é bem bobinho, somar um numero em outro é relativamente simples, mas quando é necessário executar isso centenas de milhares de vezes o processamento em paralelo pode diminuir o tempo consideravelmente.\n",
    "\n",
    "Outra biblioteca de processamento em paralelo é o [Numba](https://numba.pydata.org/). O numba é um compilador em python e isso permite compilar algumas partes do código e portanto ao chama-las a execução será muito mais rápida."
   ]
  }
 ],
 "metadata": {
  "kernelspec": {
   "display_name": "Python 3",
   "language": "python",
   "name": "python3"
  },
  "language_info": {
   "codemirror_mode": {
    "name": "ipython",
    "version": 3
   },
   "file_extension": ".py",
   "mimetype": "text/x-python",
   "name": "python",
   "nbconvert_exporter": "python",
   "pygments_lexer": "ipython3",
   "version": "3.7.6"
  }
 },
 "nbformat": 4,
 "nbformat_minor": 4
}
