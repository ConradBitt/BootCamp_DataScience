{
 "cells": [
  {
   "cell_type": "markdown",
   "id": "modular-dover",
   "metadata": {},
   "source": [
    "# A repeito do Workflow \n",
    "\n",
    "Um projeto é um projeto, seja ele envolvendo machine learning ou não. Tendo em vista que, gerenciar um projeto é algo a parte da ciencia de dados é impostante salientar que existem várias fudamentações teóricas a cerca deste assunto, que precedem a área de dados. Ao estudar gerenciamento de projetos podemos importar algumas abordagem afim de melhorar a execução de uma análise."
   ]
  },
  {
   "cell_type": "markdown",
   "id": "subtle-magic",
   "metadata": {},
   "source": [
    "\n",
    "## Definindo um objetivo e impacto nos negocios\n",
    "\n",
    "Definir um objetivo claro e incisivo é o primeiro passo para um projeto/notebook/análise a respeito de um assunto. Em geral executamos tarefas a fim de resolver algum problema ou atingir um objetivo, até mesmo relatar o que acontece quando certas análises são feitas em tais conjuntos de dados.\n",
    "\n",
    "> No notebook anterior o objetivo era \"*Encontrar uma forma de prever se um paciente precisaria ou não dos serviços de UTI do hospital*\".\n",
    "\n",
    "Outro passo é tentar descrever os impactos desse objetivo no negocio. No caso do trabalho anterior, o impacto de utilizar um modelo de regressão logistica para prever a necessidade dos serviços de UTI de um hospital pode ajudar a melhorar a vida dos pacientes e dos profissionais de saúde. Este impacto é até difícil de mensurar. \n",
    "\n",
    "Análisar um possível impacto de atingir um objetivo não precisa ser só no ambito hospítalar, esta reflexão pode ser feita em setores alimentícios, setor de serviços, setor escolar, segurança, enfim, existem vários setores que podem sofrer um impacto ao atingir determinado objetivo. Neste quesito é importante dizer que o **impacto** nem sempre é algo positivo. Ao definir um objetivo de realizar uma \"análise de evasão escolar durante a pandemia de corona virus\", o impacto pode não ser tão agradável, mas ainda sim é um impacto.\n",
    "\n",
    "Na grande parte dos casos conseguir definir objetivos incisivos em análises cujo o impacto é relevante ao negocio, significa conseguir mão de obra para execução do projeto. O melhor exemplo disso são pesquisas por amostragem. Em muitos casos é inviável realizar censos, pos cada amostra custa um valor pra ser coletada (alimentação, transporte, treinamento para quem irá coletar os dados, etc) e portanto é de suma importancia um bom planejamento para ter um impacto significativo dada as condições orçamentarias. Entender o benefício da análise em função do custo que ela representa também faz parte da definição do impacto."
   ]
  },
  {
   "cell_type": "markdown",
   "id": "latter-auction",
   "metadata": {},
   "source": [
    "## Aquisição e Transformação dos Dados\n",
    "\n",
    "Existem várias formas de realizar um processo de coleta de dados. Aleatória, probabilistica, não probabilistica, por conglomerados, estratificada, etc. Referênte a este processo é extremamente importante levar em conta a LGPD.\n",
    "\n",
    "### Lei Geral de Proteção de Dados\n",
    "A [Lei Geral de Proteção de Dados - LGPD](https://www.planalto.gov.br/ccivil_03/_Ato2015-2018/2018/Lei/L13709.htm#ementa), Lei nº 13.709, de 14 de agosto de 2018, dispõe sobre o tratamento de dados pessoais, inclusive nos meios digitais, por pessoa natural ou por pessoa jurídica de direito público ou privado, com o objetivo de proteger os direitos fundamentais de liberdade e de privacidade e o livre desenvolvimento da personalidade da pessoa natural. \n",
    "\n",
    "Tendo em vista a vigência dessa Lei, de suma importancia pra sociedade, é importante que os dados sejam anonimizados para respeitar os direitos dos cidadãos brasileiros. É importante citar isso pois anonimização de um dado deve ser muito bem feita afim de não violar o direito dos individuos.\n",
    "\n",
    "### Tratamentos: Viéses e normalização\n",
    "\n",
    "Após os dados estarem em conformidade com a lei, podemos realizar transformações em cima dos dados. Essas transformações tem como objetivo retirar viéses inerentes ao processo de coleta. Por exemplo, se trabalhamos com modelos que visam auxiliar na segurança pública. Ao usar dados coletados pelas secretarias de segurança pública, provavelmente existe algum viés de acordo com a classe social dos bairros e é preciso tomar cuidado para não criar um modelo que reforçe preconceitos sociais/raciais entre outros. Por isso é importante tratar os dados e fazer uma seleção com o objetivo de retirar viéses. Tenha em mente a máxima:\n",
    "\n",
    "> **\"Se o dado é ruim, o modelo será ruim\"**\n",
    "\n",
    "A normalização dos dados também é importante. Mas não no sentido da normalização dos dados referênte ao contexto de bancos de dados relacionais (SQL) e Excel. Normalização numérica, garantir que os dados estejam representados dentro de um intervalo. Alguns modelos de regressão necessitam que os dados sejam normalizados.\n",
    "\n",
    "Além disso é importante selecionar dados representativos, que apresentem algum tipo de correlação, lembrando sempre que correlação não é causalidade. Digo isso porque em muitos casos se trabalha com um volume significativo de dados e o custo computacional disso pode ser alto."
   ]
  },
  {
   "cell_type": "markdown",
   "id": "clear-rough",
   "metadata": {},
   "source": [
    "## Desenvolvimento do modelo\n",
    "\n",
    "Depois de ter uma fundamentação teórica para a escolha das features as variáveis que são significativamente relevantes em si, é necessário escolher um modelo que irá gerar as estimativas. Existem várias possibilidade de escolhas de modelos, desde uma regressão linear até um modelo de rede neural convolucional. \n",
    "\n",
    "Nesta etapa entram os passos da análise esploratória, estatisticas descritivas, transformações específicas para o ajuste do modelo, como separação em dados em treino, teste e validação. Implementação de técnicas de cross validation, estratificação. Análise de qualidade preditiva, enfim machine learning em si."
   ]
  },
  {
   "cell_type": "markdown",
   "id": "coordinated-chapter",
   "metadata": {},
   "source": [
    "## Comunicação dos resultados\n",
    "\n",
    "Após atingir resultados satisfatórios perante os objetivos estabelecidos, a comunicação e disponibilização das concluções é fundamental. Um bom projeto precisa ser repodutivel, isto é, estar fundamentado nos pilares da ciência. O termo \"ciência\" na área \"ciência de dados\" não esta a toa, um modelo de um projeto deve passar pelas estapas científicas de testagem, checagem e correção, não adianta ter um modelo que representa a célebre frase:\n",
    "\n",
    "> **Na minha máquina funciona**.\n",
    "\n",
    "Tenha sempre em mente o ambiente de desenvolvimento, praticas de Clean Code e padrões de engenharia de software, pois nós nunca escrevemos exclusivamente para nós mesmos, na maior parte das vezes um texto/código é escrito para outra pessoa. Então, seja incisivo e coerente com o que esta escrevendo para que as pessoas possam checar, testar e corrigir.\n",
    "\n"
   ]
  },
  {
   "cell_type": "code",
   "execution_count": null,
   "id": "turkish-appeal",
   "metadata": {},
   "outputs": [],
   "source": []
  }
 ],
 "metadata": {
  "kernelspec": {
   "display_name": "Python 3",
   "language": "python",
   "name": "python3"
  },
  "language_info": {
   "codemirror_mode": {
    "name": "ipython",
    "version": 3
   },
   "file_extension": ".py",
   "mimetype": "text/x-python",
   "name": "python",
   "nbconvert_exporter": "python",
   "pygments_lexer": "ipython3",
   "version": "3.7.6"
  }
 },
 "nbformat": 4,
 "nbformat_minor": 5
}
